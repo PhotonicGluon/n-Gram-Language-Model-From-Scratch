{
 "cells": [
  {
   "cell_type": "markdown",
   "id": "0ac59c34-297d-4408-bd72-07a70afd573e",
   "metadata": {},
   "source": [
    "# $n$-Gram Shakespeare Slimming"
   ]
  },
  {
   "cell_type": "code",
   "execution_count": 1,
   "id": "b04170e0-4dc4-4561-af1c-abae8abff022",
   "metadata": {},
   "outputs": [],
   "source": [
    "from ngram import NGramModel"
   ]
  },
  {
   "cell_type": "markdown",
   "id": "32568e0e-d9f7-4146-a64d-b5205c13a3af",
   "metadata": {},
   "source": [
    "Load the model."
   ]
  },
  {
   "cell_type": "code",
   "execution_count": 2,
   "id": "ad11df05-0f50-47c4-930d-db1471297441",
   "metadata": {},
   "outputs": [],
   "source": [
    "model = NGramModel.load(\"models/shakespeare.model\")"
   ]
  },
  {
   "cell_type": "code",
   "execution_count": 3,
   "id": "ed984427-d312-4ea3-b87f-3eab7c205bd9",
   "metadata": {},
   "outputs": [
    {
     "data": {
      "text/plain": [
       "761859"
      ]
     },
     "execution_count": 3,
     "metadata": {},
     "output_type": "execute_result"
    }
   ],
   "source": [
    "model.size"
   ]
  },
  {
   "cell_type": "markdown",
   "id": "ebea52af-7048-4b55-a4b6-4d30200f0264",
   "metadata": {},
   "source": [
    "Test model generation."
   ]
  },
  {
   "cell_type": "code",
   "execution_count": 4,
   "id": "7bc10145-6ba8-4774-8146-ca806d29f5a5",
   "metadata": {},
   "outputs": [
    {
     "name": "stdout",
     "output_type": "stream",
     "text": [
      "['descended', 'as', 'dian', 'still', 'beating', 'may', 'one', 'salt', 'in', 'ill', 'her', 'fellows', 'if', 'along', 'holding', 'to', 'qualify', 'when', 'help', 'help', 'will', 'possess', 'them', 'further', 'aid', 'from', 'crimes', 'that', 'wicked', 'hannibal', 'the', 'banner', 'shook', 'hands', 'my', 'wing', 'to', 'jet', 'did', 'become', 'them', 'more', 'reasons', 'her', 'away', 'good', 'house', 's', 'choice', 'proceeded']\n"
     ]
    }
   ],
   "source": [
    "out = model.generate_text((\"thou\",), 50, seed=8192, temperature=1)\n",
    "print(out)"
   ]
  },
  {
   "cell_type": "markdown",
   "id": "333d5b6b-0135-4bf2-a527-ceb87ce15505",
   "metadata": {},
   "source": [
    "Prune the model to be of reduced size."
   ]
  },
  {
   "cell_type": "code",
   "execution_count": 5,
   "id": "a95bf1d7-4af7-4244-906d-58495bcb6d14",
   "metadata": {},
   "outputs": [],
   "source": [
    "model.prune()"
   ]
  },
  {
   "cell_type": "code",
   "execution_count": 6,
   "id": "7225fa21-7e58-49cc-94e1-498f6f6feff7",
   "metadata": {},
   "outputs": [
    {
     "data": {
      "text/plain": [
       "453305"
      ]
     },
     "execution_count": 6,
     "metadata": {},
     "output_type": "execute_result"
    }
   ],
   "source": [
    "model.size"
   ]
  },
  {
   "cell_type": "markdown",
   "id": "a6ab5f8b-51f3-46fb-953d-ae0d979007eb",
   "metadata": {},
   "source": [
    "Test model generation."
   ]
  },
  {
   "cell_type": "code",
   "execution_count": 7,
   "id": "afededd2-02ce-4acc-be0d-27be26c16033",
   "metadata": {},
   "outputs": [
    {
     "name": "stdout",
     "output_type": "stream",
     "text": [
      "['be', 'your', 'lord', 'my', 'lord', 'who', 'my', 'good', 'or', 'to', 'them', 'which', 'must', 'come', 'with', 'us', 'make', 'such', 'love', 'of', 'love', 'may', 'yet', 'of', 'no', 'it', 'not', 'why', 'have', 'this', 'love', 'what', 's', 'be', 'the', 'more', 'by', 'which', 'were', 'there', 'did', 'so', 'hath', 'good', 'now', 'not', 'and', 'his', 'good', 'this']\n"
     ]
    }
   ],
   "source": [
    "out = model.generate_text((\"thou\",), 50, seed=8192, temperature=1)\n",
    "print(out)"
   ]
  },
  {
   "cell_type": "markdown",
   "id": "6eb59273-5aa6-4033-84b1-f9ab6eb3c8fa",
   "metadata": {},
   "source": [
    "Save the slimmed model."
   ]
  },
  {
   "cell_type": "code",
   "execution_count": 8,
   "id": "3ff84a54-6106-4384-9af4-3d4a924d2a7b",
   "metadata": {},
   "outputs": [],
   "source": [
    "model.save(\"models/shakespeare-slim.model\")"
   ]
  }
 ],
 "metadata": {
  "kernelspec": {
   "display_name": "Python 3 (ipykernel)",
   "language": "python",
   "name": "python3"
  },
  "language_info": {
   "codemirror_mode": {
    "name": "ipython",
    "version": 3
   },
   "file_extension": ".py",
   "mimetype": "text/x-python",
   "name": "python",
   "nbconvert_exporter": "python",
   "pygments_lexer": "ipython3",
   "version": "3.11.2"
  }
 },
 "nbformat": 4,
 "nbformat_minor": 5
}
