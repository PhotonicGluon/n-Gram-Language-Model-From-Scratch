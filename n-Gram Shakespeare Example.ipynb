{
 "cells": [
  {
   "cell_type": "markdown",
   "id": "0ac59c34-297d-4408-bd72-07a70afd573e",
   "metadata": {},
   "source": [
    "# $n$-Gram Shakespeare Example"
   ]
  },
  {
   "cell_type": "code",
   "execution_count": 1,
   "id": "b04170e0-4dc4-4561-af1c-abae8abff022",
   "metadata": {},
   "outputs": [],
   "source": [
    "from ngram import NGramModel"
   ]
  },
  {
   "cell_type": "markdown",
   "id": "32568e0e-d9f7-4146-a64d-b5205c13a3af",
   "metadata": {},
   "source": [
    "Load the model."
   ]
  },
  {
   "cell_type": "code",
   "execution_count": 2,
   "id": "ad11df05-0f50-47c4-930d-db1471297441",
   "metadata": {},
   "outputs": [],
   "source": [
    "model = NGramModel.load(\"models/shakespeare-slim.model\")"
   ]
  },
  {
   "cell_type": "markdown",
   "id": "a6ab5f8b-51f3-46fb-953d-ae0d979007eb",
   "metadata": {},
   "source": [
    "Test model generation."
   ]
  },
  {
   "cell_type": "code",
   "execution_count": 3,
   "id": "afededd2-02ce-4acc-be0d-27be26c16033",
   "metadata": {},
   "outputs": [
    {
     "name": "stdout",
     "output_type": "stream",
     "text": [
      "['be', 'your', 'lord', 'my', 'lord', 'who', 'my', 'good', 'or', 'to', 'them', 'which', 'must', 'come', 'with', 'us', 'make', 'such', 'love', 'of', 'love', 'may', 'yet', 'of', 'no', 'it', 'not', 'why', 'have', 'this', 'love', 'what', 's', 'be', 'the', 'more', 'by', 'which', 'were', 'there', 'did', 'so', 'hath', 'good', 'now', 'not', 'and', 'his', 'good', 'this']\n"
     ]
    }
   ],
   "source": [
    "out = model.generate_text((\"thou\",), 50, seed=8192, temperature=1)\n",
    "print(out)"
   ]
  },
  {
   "cell_type": "markdown",
   "id": "0d5274a7-85b8-49f5-a8e8-16f0aee6c985",
   "metadata": {},
   "source": [
    "Test loading speed."
   ]
  },
  {
   "cell_type": "code",
   "execution_count": 4,
   "id": "53c1354d-c0c3-4083-86d1-a49f41562e6d",
   "metadata": {},
   "outputs": [
    {
     "name": "stdout",
     "output_type": "stream",
     "text": [
      "1.59 s ± 306 ms per loop (mean ± std. dev. of 5 runs, 3 loops each)\n"
     ]
    }
   ],
   "source": [
    "%%timeit -r 5 -n 3\n",
    "NGramModel.load(\"models/shakespeare-slim.model\")"
   ]
  }
 ],
 "metadata": {
  "kernelspec": {
   "display_name": "Python 3 (ipykernel)",
   "language": "python",
   "name": "python3"
  },
  "language_info": {
   "codemirror_mode": {
    "name": "ipython",
    "version": 3
   },
   "file_extension": ".py",
   "mimetype": "text/x-python",
   "name": "python",
   "nbconvert_exporter": "python",
   "pygments_lexer": "ipython3",
   "version": "3.10.11"
  }
 },
 "nbformat": 4,
 "nbformat_minor": 5
}
